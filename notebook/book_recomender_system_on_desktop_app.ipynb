{
 "cells": [
  {
   "cell_type": "code",
   "execution_count": 87,
   "metadata": {},
   "outputs": [],
   "source": [
    "import pandas as pd\n"
   ]
  },
  {
   "cell_type": "code",
   "execution_count": 88,
   "metadata": {},
   "outputs": [],
   "source": [
    "df=pd.read_csv('books.csv')\n"
   ]
  },
  {
   "cell_type": "code",
   "execution_count": 89,
   "metadata": {},
   "outputs": [
    {
     "data": {
      "text/html": [
       "<div>\n",
       "<style scoped>\n",
       "    .dataframe tbody tr th:only-of-type {\n",
       "        vertical-align: middle;\n",
       "    }\n",
       "\n",
       "    .dataframe tbody tr th {\n",
       "        vertical-align: top;\n",
       "    }\n",
       "\n",
       "    .dataframe thead th {\n",
       "        text-align: right;\n",
       "    }\n",
       "</style>\n",
       "<table border=\"1\" class=\"dataframe\">\n",
       "  <thead>\n",
       "    <tr style=\"text-align: right;\">\n",
       "      <th></th>\n",
       "      <th>Title</th>\n",
       "      <th>Author</th>\n",
       "      <th>Genre</th>\n",
       "      <th>Height</th>\n",
       "      <th>Publisher</th>\n",
       "    </tr>\n",
       "  </thead>\n",
       "  <tbody>\n",
       "    <tr>\n",
       "      <th>0</th>\n",
       "      <td>Fundamentals of Wavelets</td>\n",
       "      <td>Goswami, Jaideva</td>\n",
       "      <td>signal_processing</td>\n",
       "      <td>228</td>\n",
       "      <td>Wiley</td>\n",
       "    </tr>\n",
       "    <tr>\n",
       "      <th>1</th>\n",
       "      <td>Data Smart</td>\n",
       "      <td>Foreman, John</td>\n",
       "      <td>data_science</td>\n",
       "      <td>235</td>\n",
       "      <td>Wiley</td>\n",
       "    </tr>\n",
       "    <tr>\n",
       "      <th>2</th>\n",
       "      <td>God Created the Integers</td>\n",
       "      <td>Hawking, Stephen</td>\n",
       "      <td>mathematics</td>\n",
       "      <td>197</td>\n",
       "      <td>Penguin</td>\n",
       "    </tr>\n",
       "    <tr>\n",
       "      <th>3</th>\n",
       "      <td>Superfreakonomics</td>\n",
       "      <td>Dubner, Stephen</td>\n",
       "      <td>economics</td>\n",
       "      <td>179</td>\n",
       "      <td>HarperCollins</td>\n",
       "    </tr>\n",
       "    <tr>\n",
       "      <th>4</th>\n",
       "      <td>Orientalism</td>\n",
       "      <td>Said, Edward</td>\n",
       "      <td>history</td>\n",
       "      <td>197</td>\n",
       "      <td>Penguin</td>\n",
       "    </tr>\n",
       "    <tr>\n",
       "      <th>...</th>\n",
       "      <td>...</td>\n",
       "      <td>...</td>\n",
       "      <td>...</td>\n",
       "      <td>...</td>\n",
       "      <td>...</td>\n",
       "    </tr>\n",
       "    <tr>\n",
       "      <th>206</th>\n",
       "      <td>Structure and Randomness</td>\n",
       "      <td>Tao, Terence</td>\n",
       "      <td>mathematics</td>\n",
       "      <td>252</td>\n",
       "      <td>NaN</td>\n",
       "    </tr>\n",
       "    <tr>\n",
       "      <th>207</th>\n",
       "      <td>Image Processing with MATLAB</td>\n",
       "      <td>Eddins, Steve</td>\n",
       "      <td>signal_processing</td>\n",
       "      <td>241</td>\n",
       "      <td>NaN</td>\n",
       "    </tr>\n",
       "    <tr>\n",
       "      <th>208</th>\n",
       "      <td>Animal Farm</td>\n",
       "      <td>Orwell, George</td>\n",
       "      <td>fiction</td>\n",
       "      <td>180</td>\n",
       "      <td>NaN</td>\n",
       "    </tr>\n",
       "    <tr>\n",
       "      <th>209</th>\n",
       "      <td>Idiot, The</td>\n",
       "      <td>Dostoevsky, Fyodor</td>\n",
       "      <td>fiction</td>\n",
       "      <td>197</td>\n",
       "      <td>NaN</td>\n",
       "    </tr>\n",
       "    <tr>\n",
       "      <th>210</th>\n",
       "      <td>Christmas Carol, A</td>\n",
       "      <td>Dickens, Charles</td>\n",
       "      <td>fiction</td>\n",
       "      <td>196</td>\n",
       "      <td>NaN</td>\n",
       "    </tr>\n",
       "  </tbody>\n",
       "</table>\n",
       "<p>211 rows × 5 columns</p>\n",
       "</div>"
      ],
      "text/plain": [
       "                            Title              Author              Genre  \\\n",
       "0        Fundamentals of Wavelets    Goswami, Jaideva  signal_processing   \n",
       "1                      Data Smart       Foreman, John       data_science   \n",
       "2        God Created the Integers    Hawking, Stephen        mathematics   \n",
       "3               Superfreakonomics     Dubner, Stephen          economics   \n",
       "4                     Orientalism        Said, Edward            history   \n",
       "..                            ...                 ...                ...   \n",
       "206      Structure and Randomness        Tao, Terence        mathematics   \n",
       "207  Image Processing with MATLAB       Eddins, Steve  signal_processing   \n",
       "208                   Animal Farm      Orwell, George            fiction   \n",
       "209                    Idiot, The  Dostoevsky, Fyodor            fiction   \n",
       "210            Christmas Carol, A    Dickens, Charles            fiction   \n",
       "\n",
       "     Height      Publisher  \n",
       "0       228          Wiley  \n",
       "1       235          Wiley  \n",
       "2       197        Penguin  \n",
       "3       179  HarperCollins  \n",
       "4       197        Penguin  \n",
       "..      ...            ...  \n",
       "206     252            NaN  \n",
       "207     241            NaN  \n",
       "208     180            NaN  \n",
       "209     197            NaN  \n",
       "210     196            NaN  \n",
       "\n",
       "[211 rows x 5 columns]"
      ]
     },
     "execution_count": 89,
     "metadata": {},
     "output_type": "execute_result"
    }
   ],
   "source": [
    "df"
   ]
  },
  {
   "cell_type": "code",
   "execution_count": 90,
   "metadata": {},
   "outputs": [
    {
     "data": {
      "text/plain": [
       "Title         0\n",
       "Author       24\n",
       "Genre         0\n",
       "Height        0\n",
       "Publisher    96\n",
       "dtype: int64"
      ]
     },
     "execution_count": 90,
     "metadata": {},
     "output_type": "execute_result"
    }
   ],
   "source": [
    "df.isna().sum()"
   ]
  },
  {
   "cell_type": "code",
   "execution_count": 91,
   "metadata": {},
   "outputs": [],
   "source": [
    "df.dropna(axis=0,inplace=True)"
   ]
  },
  {
   "cell_type": "code",
   "execution_count": 92,
   "metadata": {},
   "outputs": [
    {
     "data": {
      "text/plain": [
       "Title        0\n",
       "Author       0\n",
       "Genre        0\n",
       "Height       0\n",
       "Publisher    0\n",
       "dtype: int64"
      ]
     },
     "execution_count": 92,
     "metadata": {},
     "output_type": "execute_result"
    }
   ],
   "source": [
    "df.isna().sum()"
   ]
  },
  {
   "cell_type": "code",
   "execution_count": 93,
   "metadata": {},
   "outputs": [],
   "source": [
    "from sklearn.feature_extraction.text import TfidfVectorizer\n",
    "from sklearn.metrics.pairwise import cosine_similarity"
   ]
  },
  {
   "cell_type": "code",
   "execution_count": null,
   "metadata": {},
   "outputs": [],
   "source": []
  },
  {
   "cell_type": "code",
   "execution_count": 94,
   "metadata": {},
   "outputs": [],
   "source": [
    "df['combined_features'] = df['Title'] + ' ' + df['Author'] + ' ' + df['Genre'] + ' ' + df['Publisher'].fillna('') + ' ' + df['Height'].astype(str)\n"
   ]
  },
  {
   "cell_type": "code",
   "execution_count": 95,
   "metadata": {},
   "outputs": [],
   "source": [
    "from sklearn.feature_extraction.text import TfidfVectorizer\n",
    "\n",
    "vectorizer = TfidfVectorizer()\n",
    "tfidf_matrix = vectorizer.fit_transform(df['combined_features'])\n"
   ]
  },
  {
   "cell_type": "code",
   "execution_count": 96,
   "metadata": {},
   "outputs": [
    {
     "name": "stdout",
     "output_type": "stream",
     "text": [
      "0                      Fundamentals of Wavelets\n",
      "2                      God Created the Integers\n",
      "3                             Superfreakonomics\n",
      "4                                   Orientalism\n",
      "5    Nature of Statistical Learning Theory, The\n",
      "Name: Title, dtype: object\n"
     ]
    }
   ],
   "source": [
    "def get_recommendations(title, cosine_sim=cosine_sim):\n",
    "    idx = df.index[df['Title'] == title][0]\n",
    "    sim_scores = list(enumerate(cosine_sim[idx]))\n",
    "    sim_scores = sorted(sim_scores, key=lambda x: x[1], reverse=True)\n",
    "    sim_scores = sim_scores[1:6]\n",
    "    book_indices = [i[0] for i in sim_scores]\n",
    "    return df['Title'].iloc[book_indices]\n",
    "\n",
    "# Example usage\n",
    "print(get_recommendations('Data Smart'))\n"
   ]
  },
  {
   "cell_type": "code",
   "execution_count": 97,
   "metadata": {},
   "outputs": [
    {
     "name": "stdout",
     "output_type": "stream",
     "text": [
      "0                      Fundamentals of Wavelets\n",
      "2                      God Created the Integers\n",
      "3                             Superfreakonomics\n",
      "4                                   Orientalism\n",
      "5    Nature of Statistical Learning Theory, The\n",
      "Name: Title, dtype: object\n"
     ]
    }
   ],
   "source": [
    "import pickle\n",
    "\n",
    "# Save the vectorizer and similarity matrix\n",
    "with open('vectorizer.pkl', 'wb') as file:\n",
    "    pickle.dump(vectorizer, file)\n",
    "\n",
    "with open('cosine_sim.pkl', 'wb') as file:\n",
    "    pickle.dump(cosine_sim, file)\n",
    "\n",
    "# Load the vectorizer and similarity matrix\n",
    "with open('vectorizer.pkl', 'rb') as file:\n",
    "    loaded_vectorizer = pickle.load(file)\n",
    "\n",
    "with open('cosine_sim.pkl', 'rb') as file:\n",
    "    loaded_cosine_sim = pickle.load(file)\n",
    "\n",
    "# Verify the loaded models\n",
    "print(get_recommendations('Data Smart', cosine_sim=loaded_cosine_sim))\n"
   ]
  },
  {
   "cell_type": "code",
   "execution_count": 98,
   "metadata": {},
   "outputs": [
    {
     "name": "stdout",
     "output_type": "stream",
     "text": [
      "0    Fundamentals of Wavelets\n",
      "2    God Created the Integers\n",
      "3           Superfreakonomics\n",
      "4                 Orientalism\n",
      "5    Structure and Randomness\n",
      "Name: Title, dtype: object\n"
     ]
    }
   ],
   "source": [
    "import pandas as pd\n",
    "from sklearn.feature_extraction.text import TfidfVectorizer\n",
    "from sklearn.metrics.pairwise import cosine_similarity\n",
    "import pickle\n",
    "\n",
    "# Sample DataFrame\n",
    "data = {\n",
    "    'Title': [\n",
    "        'Fundamentals of Wavelets', 'Data Smart', 'God Created the Integers',\n",
    "        'Superfreakonomics', 'Orientalism', 'Structure and Randomness',\n",
    "        'Image Processing with MATLAB', 'Animal Farm', 'Idiot, The', 'Christmas Carol, A'\n",
    "    ],\n",
    "    'Author': [\n",
    "        'Goswami, Jaideva', 'Foreman, John', 'Hawking, Stephen',\n",
    "        'Dubner, Stephen', 'Said, Edward', 'Tao, Terence',\n",
    "        'Eddins, Steve', 'Orwell, George', 'Dostoevsky, Fyodor', 'Dickens, Charles'\n",
    "    ],\n",
    "    'Genre': [\n",
    "        'signal_processing', 'data_science', 'mathematics',\n",
    "        'economics', 'history', 'mathematics',\n",
    "        'signal_processing', 'fiction', 'fiction', 'fiction'\n",
    "    ],\n",
    "    'Height': [\n",
    "        228, 235, 197, 179, 197, 252, 241, 180, 197, 196\n",
    "    ],\n",
    "    'Publisher': [\n",
    "        'Wiley', 'Wiley', 'Penguin', 'HarperCollins', 'Penguin', 'NaN', 'NaN', 'NaN', 'NaN', 'NaN'\n",
    "    ]\n",
    "}\n",
    "\n",
    "df = pd.DataFrame(data)\n",
    "\n",
    "# Combine features\n",
    "df['combined_features'] = df['Title'] + ' ' + df['Author'] + ' ' + df['Genre'] + ' ' + df['Publisher'].fillna('') + ' ' + df['Height'].astype(str)\n",
    "\n",
    "# Vectorization\n",
    "vectorizer = TfidfVectorizer()\n",
    "tfidf_matrix = vectorizer.fit_transform(df['combined_features'])\n",
    "\n",
    "# Similarity calculation\n",
    "cosine_sim = cosine_similarity(tfidf_matrix, tfidf_matrix)\n",
    "\n",
    "# Recommendation function\n",
    "def get_recommendations(title, cosine_sim=cosine_sim):\n",
    "    idx = df.index[df['Title'] == title][0]\n",
    "    sim_scores = list(enumerate(cosine_sim[idx]))\n",
    "    sim_scores = sorted(sim_scores, key=lambda x: x[1], reverse=True)\n",
    "    sim_scores = sim_scores[1:6]\n",
    "    book_indices = [i[0] for i in sim_scores]\n",
    "    return df['Title'].iloc[book_indices]\n",
    "\n",
    "# Save the vectorizer and similarity matrix\n",
    "with open('vectorizer.pkl', 'wb') as file:\n",
    "    pickle.dump(vectorizer, file)\n",
    "\n",
    "with open('cosine_sim.pkl', 'wb') as file:\n",
    "    pickle.dump(cosine_sim, file)\n",
    "\n",
    "# Load the vectorizer and similarity matrix\n",
    "with open('vectorizer.pkl', 'rb') as file:\n",
    "    loaded_vectorizer = pickle.load(file)\n",
    "\n",
    "with open('cosine_sim.pkl', 'rb') as file:\n",
    "    loaded_cosine_sim = pickle.load(file)\n",
    "\n",
    "# Verify the loaded models\n",
    "print(get_recommendations('Data Smart', cosine_sim=loaded_cosine_sim))\n"
   ]
  },
  {
   "cell_type": "code",
   "execution_count": null,
   "metadata": {},
   "outputs": [],
   "source": []
  }
 ],
 "metadata": {
  "kernelspec": {
   "display_name": "Python 3",
   "language": "python",
   "name": "python3"
  },
  "language_info": {
   "codemirror_mode": {
    "name": "ipython",
    "version": 3
   },
   "file_extension": ".py",
   "mimetype": "text/x-python",
   "name": "python",
   "nbconvert_exporter": "python",
   "pygments_lexer": "ipython3",
   "version": "3.12.3"
  }
 },
 "nbformat": 4,
 "nbformat_minor": 2
}
